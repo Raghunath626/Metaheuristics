{
 "cells": [
  {
   "cell_type": "code",
   "execution_count": 4,
   "metadata": {
    "colab": {},
    "colab_type": "code",
    "id": "QDCME_rRKmIQ"
   },
   "outputs": [],
   "source": [
    "#!pip install opytimizer"
   ]
  },
  {
   "cell_type": "code",
   "execution_count": 1,
   "metadata": {
    "colab": {},
    "colab_type": "code",
    "id": "3QhUU29vLTfK"
   },
   "outputs": [],
   "source": [
    "# Build simple ANN and compute the losses\n",
    "import numpy as np\n",
    "import pandas as pd\n",
    "import torch\n",
    "from sklearn.datasets import load_digits\n",
    "from sklearn.model_selection import train_test_split\n",
    "from torch import optim\n",
    "from torch.autograd import Variable\n",
    "import random\n",
    "\n",
    "#optymizer packages\n",
    "from opytimizer import Opytimizer\n",
    "from opytimizer.core.function import Function\n",
    "from opytimizer.optimizers.swarm.pso import PSO\n",
    "from opytimizer.spaces.search import SearchSpace\n",
    "\n",
    "# Setting up a random seed\n",
    "torch.manual_seed(0)\n",
    "np.random.seed(0)\n",
    "random.seed(0)\n",
    "torch.backends.cudnn.deterministic=True"
   ]
  },
  {
   "cell_type": "code",
   "execution_count": 2,
   "metadata": {
    "colab": {},
    "colab_type": "code",
    "id": "gg_VHO6CLiYX"
   },
   "outputs": [],
   "source": [
    "# Loading digits dataset\n",
    "digits = load_digits()\n",
    "\n",
    "# Gathering samples and targets\n",
    "X = digits.data\n",
    "Y = digits.target\n",
    "\n",
    "# Splitting the data\n",
    "X_train, X_val, Y_train, Y_val = train_test_split(\n",
    "    X, Y, test_size=0.3, random_state=42)\n",
    "\n",
    "# Converting from numpy array to torch tensors\n",
    "X_train = torch.from_numpy(X_train).float()\n",
    "X_val = torch.from_numpy(X_val).float()\n",
    "Y_train = torch.from_numpy(Y_train).long()"
   ]
  },
  {
   "cell_type": "code",
   "execution_count": 3,
   "metadata": {
    "colab": {
     "base_uri": "https://localhost:8080/",
     "height": 34
    },
    "colab_type": "code",
    "id": "I6D0tQJhL9hi",
    "outputId": "d1170f80-ea93-4097-c0b0-485563279a77"
   },
   "outputs": [
    {
     "data": {
      "text/plain": [
       "torch.Size([1257, 64])"
      ]
     },
     "execution_count": 3,
     "metadata": {
      "tags": []
     },
     "output_type": "execute_result"
    }
   ],
   "source": [
    "X_train.shape"
   ]
  },
  {
   "cell_type": "code",
   "execution_count": 4,
   "metadata": {
    "colab": {},
    "colab_type": "code",
    "id": "dUhgK9krLmEi"
   },
   "outputs": [],
   "source": [
    "def fit(model, loss, opt, x, y):\n",
    "    # Declaring initial variables\n",
    "    x = Variable(x, requires_grad=False)\n",
    "    y = Variable(y, requires_grad=False)\n",
    "\n",
    "    # Resetting the gradient\n",
    "    opt.zero_grad()\n",
    "\n",
    "    # Performing the foward pass\n",
    "    fw_x = model.forward(x)\n",
    "    output = loss.forward(fw_x, y)\n",
    "\n",
    "    # Performing backward pass\n",
    "    output.backward()\n",
    "\n",
    "    # Updating parameters\n",
    "    opt.step()\n",
    "\n",
    "    return output.item()\n",
    "def set_random_seeds():\n",
    "    torch.manual_seed(0)\n",
    "    np.random.seed(0)\n",
    "    random.seed(0)\n",
    "    torch.backends.cudnn.deterministic=True\n"
   ]
  },
  {
   "cell_type": "code",
   "execution_count": 5,
   "metadata": {
    "colab": {},
    "colab_type": "code",
    "id": "2OU3M7aCLoi7"
   },
   "outputs": [],
   "source": [
    "def predict(model, x_val):\n",
    "    # Declaring validation variable\n",
    "    x = Variable(x_val, requires_grad=False)\n",
    "\n",
    "    # Performing backward pass with this variable\n",
    "    output = model.forward(x)\n",
    "\n",
    "    # Getting the index of the prediction\n",
    "    y_val = output.data.numpy().argmax(axis=1)\n",
    "\n",
    "    return y_val"
   ]
  },
  {
   "cell_type": "code",
   "execution_count": 6,
   "metadata": {
    "colab": {},
    "colab_type": "code",
    "id": "gAPuT9GfLykW"
   },
   "outputs": [],
   "source": [
    "def neural_network_test(learning_rate,momentum):\n",
    "    set_random_seeds()\n",
    "    # Instanciating the model\n",
    "    model = torch.nn.Sequential()\n",
    "\n",
    "    # Some model parameters\n",
    "    n_features = 64\n",
    "    n_hidden = 128\n",
    "    n_classes = 10\n",
    "\n",
    "    # Adding first linear layer\n",
    "    model.add_module(\"linear_1\", torch.nn.Linear(\n",
    "        n_features, n_hidden, bias=False))\n",
    "\n",
    "    # Followed by a sigmoid activation\n",
    "    model.add_module(\"sigmoid_1\", torch.nn.Sigmoid())\n",
    "\n",
    "    # And finally a secondary linear layer\n",
    "    model.add_module(\"linear_2\", torch.nn.Linear(n_hidden, n_classes, bias=False))\n",
    "\n",
    "    # Input variables\n",
    "    batch_size = 64\n",
    "    epochs = 100\n",
    "\n",
    "    # Gathering parameters from Opytimizer\n",
    "    # Pay extremely attention to their order when declaring due to their bounds\n",
    "    #learning_rate = opytimizer[0][0]\n",
    "    #momentum = opytimizer[1][0]\n",
    "\n",
    "    # Declaring the loss function\n",
    "    loss = torch.nn.CrossEntropyLoss(reduction='mean')\n",
    "\n",
    "    # Declaring the optimization algorithm\n",
    "    opt = optim.SGD(model.parameters(), lr=learning_rate, momentum=momentum)\n",
    "\n",
    "    # Performing training loop\n",
    "    for _ in range(epochs):\n",
    "        # Initial cost as 0.0\n",
    "        cost = 0.0\n",
    "\n",
    "        # Calculating the number of batches\n",
    "        num_batches = len(X_train) // batch_size\n",
    "\n",
    "        # For every batch\n",
    "        for k in range(num_batches):\n",
    "            # Declaring initial and ending for each batch\n",
    "            start, end = k * batch_size, (k + 1) * batch_size\n",
    "\n",
    "            # Cost will be the loss accumulated from model's fitting\n",
    "            cost += fit(model, loss, opt,\n",
    "                        X_train[start:end], Y_train[start:end])\n",
    "\n",
    "    # Return cost value\n",
    "    return cost"
   ]
  },
  {
   "cell_type": "code",
   "execution_count": 7,
   "metadata": {
    "colab": {},
    "colab_type": "code",
    "id": "xCeAdq7nPAhm"
   },
   "outputs": [],
   "source": [
    "learning_rate_range = [i/100 for i in range(0,100,10)]\n",
    "momentum_range = [i/100 for i in range(0,100,10)]"
   ]
  },
  {
   "cell_type": "code",
   "execution_count": 8,
   "metadata": {
    "colab": {},
    "colab_type": "code",
    "id": "GRCybKxzPxPn"
   },
   "outputs": [],
   "source": [
    "cost_df = pd.DataFrame(index=learning_rate_range,columns=momentum_range)\n",
    "for lr in learning_rate_range:\n",
    "  for m in momentum_range:\n",
    "    cost_df.loc[lr,m] = neural_network_test(lr,m)"
   ]
  },
  {
   "cell_type": "code",
   "execution_count": 9,
   "metadata": {
    "colab": {
     "base_uri": "https://localhost:8080/",
     "height": 410
    },
    "colab_type": "code",
    "id": "LXO5gD6aHmxD",
    "outputId": "fc89c247-936d-4dd1-a14a-ee9eed7543da"
   },
   "outputs": [
    {
     "name": "stdout",
     "output_type": "stream",
     "text": [
      "Cost Values Data Frame :\n",
      "\n",
      "\n"
     ]
    },
    {
     "data": {
      "text/html": [
       "<div>\n",
       "<style scoped>\n",
       "    .dataframe tbody tr th:only-of-type {\n",
       "        vertical-align: middle;\n",
       "    }\n",
       "\n",
       "    .dataframe tbody tr th {\n",
       "        vertical-align: top;\n",
       "    }\n",
       "\n",
       "    .dataframe thead th {\n",
       "        text-align: right;\n",
       "    }\n",
       "</style>\n",
       "<table border=\"1\" class=\"dataframe\">\n",
       "  <thead>\n",
       "    <tr style=\"text-align: right;\">\n",
       "      <th></th>\n",
       "      <th>0.0</th>\n",
       "      <th>0.1</th>\n",
       "      <th>0.2</th>\n",
       "      <th>0.3</th>\n",
       "      <th>0.4</th>\n",
       "      <th>0.5</th>\n",
       "      <th>0.6</th>\n",
       "      <th>0.7</th>\n",
       "      <th>0.8</th>\n",
       "      <th>0.9</th>\n",
       "    </tr>\n",
       "  </thead>\n",
       "  <tbody>\n",
       "    <tr>\n",
       "      <th>0.0</th>\n",
       "      <td>44.3443</td>\n",
       "      <td>44.3443</td>\n",
       "      <td>44.3443</td>\n",
       "      <td>44.3443</td>\n",
       "      <td>44.3443</td>\n",
       "      <td>44.3443</td>\n",
       "      <td>44.3443</td>\n",
       "      <td>44.3443</td>\n",
       "      <td>44.3443</td>\n",
       "      <td>44.3443</td>\n",
       "    </tr>\n",
       "    <tr>\n",
       "      <th>0.1</th>\n",
       "      <td>0.26069</td>\n",
       "      <td>0.228831</td>\n",
       "      <td>0.1978</td>\n",
       "      <td>0.167449</td>\n",
       "      <td>0.138748</td>\n",
       "      <td>0.111438</td>\n",
       "      <td>0.0854143</td>\n",
       "      <td>0.0612762</td>\n",
       "      <td>0.0392288</td>\n",
       "      <td>0.0163804</td>\n",
       "    </tr>\n",
       "    <tr>\n",
       "      <th>0.2</th>\n",
       "      <td>0.111821</td>\n",
       "      <td>0.0985793</td>\n",
       "      <td>0.0857531</td>\n",
       "      <td>0.0732017</td>\n",
       "      <td>0.0614237</td>\n",
       "      <td>0.0498855</td>\n",
       "      <td>0.0384168</td>\n",
       "      <td>0.0277086</td>\n",
       "      <td>0.0180948</td>\n",
       "      <td>0.0142197</td>\n",
       "    </tr>\n",
       "    <tr>\n",
       "      <th>0.3</th>\n",
       "      <td>0.0703315</td>\n",
       "      <td>0.0623026</td>\n",
       "      <td>0.0540984</td>\n",
       "      <td>0.0465096</td>\n",
       "      <td>0.0388789</td>\n",
       "      <td>0.0315873</td>\n",
       "      <td>0.0244719</td>\n",
       "      <td>0.0180721</td>\n",
       "      <td>0.0116185</td>\n",
       "      <td>8.69925</td>\n",
       "    </tr>\n",
       "    <tr>\n",
       "      <th>0.4</th>\n",
       "      <td>0.0507036</td>\n",
       "      <td>0.0448642</td>\n",
       "      <td>0.0391157</td>\n",
       "      <td>0.0337243</td>\n",
       "      <td>0.0287311</td>\n",
       "      <td>0.0234398</td>\n",
       "      <td>0.0191246</td>\n",
       "      <td>0.0146669</td>\n",
       "      <td>0.0131176</td>\n",
       "      <td>13.1858</td>\n",
       "    </tr>\n",
       "    <tr>\n",
       "      <th>0.5</th>\n",
       "      <td>0.0405812</td>\n",
       "      <td>0.0359356</td>\n",
       "      <td>0.03202</td>\n",
       "      <td>0.0281717</td>\n",
       "      <td>0.0240475</td>\n",
       "      <td>0.0200787</td>\n",
       "      <td>0.0189903</td>\n",
       "      <td>0.0146119</td>\n",
       "      <td>2.46512</td>\n",
       "      <td>8.89051</td>\n",
       "    </tr>\n",
       "    <tr>\n",
       "      <th>0.6</th>\n",
       "      <td>0.035971</td>\n",
       "      <td>0.0324632</td>\n",
       "      <td>0.0288777</td>\n",
       "      <td>0.0257894</td>\n",
       "      <td>0.0238354</td>\n",
       "      <td>0.0207455</td>\n",
       "      <td>0.0206943</td>\n",
       "      <td>0.0622309</td>\n",
       "      <td>4.63159</td>\n",
       "      <td>18.4324</td>\n",
       "    </tr>\n",
       "    <tr>\n",
       "      <th>0.7</th>\n",
       "      <td>0.0351066</td>\n",
       "      <td>0.0304492</td>\n",
       "      <td>0.0287521</td>\n",
       "      <td>0.0263296</td>\n",
       "      <td>0.0253241</td>\n",
       "      <td>0.023906</td>\n",
       "      <td>0.0695451</td>\n",
       "      <td>1.28748</td>\n",
       "      <td>4.47118</td>\n",
       "      <td>54.422</td>\n",
       "    </tr>\n",
       "    <tr>\n",
       "      <th>0.8</th>\n",
       "      <td>0.0336559</td>\n",
       "      <td>0.0296337</td>\n",
       "      <td>0.0306941</td>\n",
       "      <td>0.0289439</td>\n",
       "      <td>0.0328993</td>\n",
       "      <td>0.0426726</td>\n",
       "      <td>1.24796</td>\n",
       "      <td>1.85688</td>\n",
       "      <td>4.57738</td>\n",
       "      <td>18.4781</td>\n",
       "    </tr>\n",
       "    <tr>\n",
       "      <th>0.9</th>\n",
       "      <td>0.0356803</td>\n",
       "      <td>0.033434</td>\n",
       "      <td>0.0344191</td>\n",
       "      <td>0.0396492</td>\n",
       "      <td>0.0405222</td>\n",
       "      <td>0.105292</td>\n",
       "      <td>4.09025</td>\n",
       "      <td>5.3406</td>\n",
       "      <td>7.59405</td>\n",
       "      <td>279.41</td>\n",
       "    </tr>\n",
       "  </tbody>\n",
       "</table>\n",
       "</div>"
      ],
      "text/plain": [
       "           0.0        0.1        0.2  ...        0.7        0.8        0.9\n",
       "0.0    44.3443    44.3443    44.3443  ...    44.3443    44.3443    44.3443\n",
       "0.1    0.26069   0.228831     0.1978  ...  0.0612762  0.0392288  0.0163804\n",
       "0.2   0.111821  0.0985793  0.0857531  ...  0.0277086  0.0180948  0.0142197\n",
       "0.3  0.0703315  0.0623026  0.0540984  ...  0.0180721  0.0116185    8.69925\n",
       "0.4  0.0507036  0.0448642  0.0391157  ...  0.0146669  0.0131176    13.1858\n",
       "0.5  0.0405812  0.0359356    0.03202  ...  0.0146119    2.46512    8.89051\n",
       "0.6   0.035971  0.0324632  0.0288777  ...  0.0622309    4.63159    18.4324\n",
       "0.7  0.0351066  0.0304492  0.0287521  ...    1.28748    4.47118     54.422\n",
       "0.8  0.0336559  0.0296337  0.0306941  ...    1.85688    4.57738    18.4781\n",
       "0.9  0.0356803   0.033434  0.0344191  ...     5.3406    7.59405     279.41\n",
       "\n",
       "[10 rows x 10 columns]"
      ]
     },
     "execution_count": 9,
     "metadata": {
      "tags": []
     },
     "output_type": "execute_result"
    }
   ],
   "source": [
    "print(\"Cost Values Data Frame :\\n\\n\")\n",
    "cost_df"
   ]
  },
  {
   "cell_type": "code",
   "execution_count": 11,
   "metadata": {
    "colab": {
     "base_uri": "https://localhost:8080/",
     "height": 68
    },
    "colab_type": "code",
    "id": "g7t_D0RsMhc-",
    "outputId": "5a949aee-967b-4292-fdcd-9d34df3a447b"
   },
   "outputs": [
    {
     "name": "stdout",
     "output_type": "stream",
     "text": [
      "Minimum Cost Value is : 0.011618530668783933\n",
      "Learning Rate : 0.3\n",
      "Momentum : 0.8\n"
     ]
    }
   ],
   "source": [
    "min_value = cost_df.min().min()\n",
    "min_index = np.where(cost_df==min_value)\n",
    "print(\"Minimum Cost Value is :\",min_value)\n",
    "print(\"Learning Rate :\",learning_rate_range[min_index[0][0]])\n",
    "print(\"Momentum :\",momentum_range[min_index[1][0]])"
   ]
  },
  {
   "cell_type": "code",
   "execution_count": 21,
   "metadata": {
    "colab": {
     "base_uri": "https://localhost:8080/",
     "height": 326
    },
    "colab_type": "code",
    "id": "0D6gOtwFKoUO",
    "outputId": "3fd498bf-c3a1-421c-8c22-6a3566f33490"
   },
   "outputs": [
    {
     "name": "stdout",
     "output_type": "stream",
     "text": [
      "2020-08-28 09:11:46,483 - opytimizer.core.function — INFO — Creating class: Function.\n",
      "2020-08-28 09:11:46,484 - opytimizer.core.function — INFO — Class created.\n",
      "2020-08-28 09:11:46,485 - opytimizer.core.function — DEBUG — Function: neural_network | Constraints: [] | Penalty: 0.0 | Built: True\n",
      "2020-08-28 09:11:46,487 - opytimizer.spaces.search — INFO — Overriding class: Space -> SearchSpace.\n",
      "2020-08-28 09:11:46,488 - opytimizer.core.space — DEBUG — Running private method: build().\n",
      "2020-08-28 09:11:46,490 - opytimizer.core.space — DEBUG — Running private method: create_agents().\n",
      "2020-08-28 09:11:46,493 - opytimizer.core.space — DEBUG — Agents: 10 | Size: (2, 1) | Iterations: 20 | Lower Bound: [0 0] | Upper Bound: [1 1] | Built: True.\n",
      "2020-08-28 09:11:46,495 - opytimizer.spaces.search — DEBUG — Running private method: initialize_agents().\n",
      "2020-08-28 09:11:46,499 - opytimizer.spaces.search — DEBUG — Agents initialized.\n",
      "2020-08-28 09:11:46,500 - opytimizer.spaces.search — INFO — Class overrided.\n",
      "2020-08-28 09:11:46,503 - opytimizer.optimizers.swarm.pso — INFO — Overriding class: Optimizer -> PSO.\n",
      "2020-08-28 09:11:46,506 - opytimizer.optimizers.swarm.pso — DEBUG — Running private method: build().\n",
      "2020-08-28 09:11:46,506 - opytimizer.optimizers.swarm.pso — DEBUG — Algorithm: PSO | Hyperparameters: w = 0.9, c1 = 1.1, c2 = 1.9 | Built: True.\n",
      "2020-08-28 09:11:46,508 - opytimizer.optimizers.swarm.pso — INFO — Class overrided.\n",
      "2020-08-28 09:11:46,511 - opytimizer.opytimizer — INFO — Creating class: Opytimizer.\n",
      "2020-08-28 09:11:46,512 - opytimizer.opytimizer — DEBUG — Space: <opytimizer.spaces.search.SearchSpace object at 0x7ff6177e30b8> | Optimizer: <opytimizer.optimizers.swarm.pso.PSO object at 0x7ff6177e37b8>| Function: <opytimizer.core.function.Function object at 0x7ff617612b00>.\n",
      "2020-08-28 09:11:46,513 - opytimizer.opytimizer — INFO — Class created.\n"
     ]
    }
   ],
   "source": [
    "def neural_network(opytimizer):\n",
    "    set_random_seeds()\n",
    "    # Instanciating the model\n",
    "    model = torch.nn.Sequential()\n",
    "\n",
    "    # Some model parameters\n",
    "    n_features = 64\n",
    "    n_hidden = 128\n",
    "    n_classes = 10\n",
    "\n",
    "    # Adding first linear layer\n",
    "    model.add_module(\"linear_1\", torch.nn.Linear(\n",
    "        n_features, n_hidden, bias=False))\n",
    "\n",
    "    # Followed by a sigmoid activation\n",
    "    model.add_module(\"sigmoid_1\", torch.nn.Sigmoid())\n",
    "\n",
    "    # And finally a secondary linear layer\n",
    "    model.add_module(\"linear_2\", torch.nn.Linear(n_hidden, n_classes, bias=False))\n",
    "\n",
    "    # Input variables\n",
    "    batch_size = 64\n",
    "    epochs = 100\n",
    "\n",
    "    # Gathering parameters from Opytimizer\n",
    "    # Pay extremely attention to their order when declaring due to their bounds\n",
    "    learning_rate = opytimizer[0][0]\n",
    "    momentum = opytimizer[1][0]\n",
    "\n",
    "    # Declaring the loss function\n",
    "    loss = torch.nn.CrossEntropyLoss(reduction='mean')\n",
    "\n",
    "    # Declaring the optimization algorithm\n",
    "    opt = optim.SGD(model.parameters(), lr=learning_rate, momentum=momentum)\n",
    "\n",
    "    # Performing training loop\n",
    "    for _ in range(epochs):\n",
    "        # Initial cost as 0.0\n",
    "        cost = 0.0\n",
    "\n",
    "        # Calculating the number of batches\n",
    "        num_batches = len(X_train) // batch_size\n",
    "\n",
    "        # For every batch\n",
    "        for k in range(num_batches):\n",
    "            # Declaring initial and ending for each batch\n",
    "            start, end = k * batch_size, (k + 1) * batch_size\n",
    "\n",
    "            # Cost will be the loss accumulated from model's fitting\n",
    "            cost += fit(model, loss, opt,\n",
    "                        X_train[start:end], Y_train[start:end])\n",
    "\n",
    "    # Predicting samples from evaluating set\n",
    "    return cost\n",
    "\n",
    "\n",
    "# Creating Function's object\n",
    "f = Function(pointer=neural_network)\n",
    "\n",
    "# Number of agents\n",
    "n_agents = 10\n",
    "\n",
    "# Number of decision variables\n",
    "n_variables = 2\n",
    "\n",
    "# Number of running iterations\n",
    "n_iterations = 20\n",
    "\n",
    "# Lower and upper bounds (has to be the same size as n_variables)\n",
    "lower_bound = (0, 0)\n",
    "upper_bound = (1, 1)\n",
    "\n",
    "# Creating the SearchSpace class\n",
    "s = SearchSpace(n_agents=n_agents, n_iterations=n_iterations,\n",
    "                n_variables=n_variables, lower_bound=lower_bound,\n",
    "                upper_bound=upper_bound)\n",
    "\n",
    "# Hyperparameters for the optimizer\n",
    "hyperparams = {\n",
    "    'w': 0.9,\n",
    "    'c1': 1.1,\n",
    "    'c2': 1.9\n",
    "}\n",
    "\n",
    "# Creating PSO's optimizer\n",
    "p = PSO(hyperparams=hyperparams)\n",
    "\n",
    "# Finally, we can create an Opytimizer class\n",
    "o = Opytimizer(space=s, optimizer=p, function=f)"
   ]
  },
  {
   "cell_type": "code",
   "execution_count": 22,
   "metadata": {
    "colab": {
     "base_uri": "https://localhost:8080/",
     "height": 85
    },
    "colab_type": "code",
    "id": "8qSmZUUoKzVx",
    "outputId": "40d84203-6b89-4a91-ce49-c53176ea8c51"
   },
   "outputs": [
    {
     "name": "stdout",
     "output_type": "stream",
     "text": [
      "2020-08-28 09:11:52,405 - opytimizer.opytimizer — INFO — Starting optimization task.\n"
     ]
    },
    {
     "name": "stderr",
     "output_type": "stream",
     "text": [
      "100%|██████████| 20/20 [03:11<00:00,  9.57s/it, fitness=2.46e-6]"
     ]
    },
    {
     "name": "stdout",
     "output_type": "stream",
     "text": [
      "2020-08-28 09:15:14,925 - opytimizer.opytimizer — INFO — Optimization task ended.\n",
      "2020-08-28 09:15:14,926 - opytimizer.opytimizer — INFO — It took 202.51922082901 seconds.\n"
     ]
    },
    {
     "name": "stderr",
     "output_type": "stream",
     "text": [
      "\n"
     ]
    }
   ],
   "source": [
    "# Running the optimization task\n",
    "history = o.start()"
   ]
  },
  {
   "cell_type": "code",
   "execution_count": 23,
   "metadata": {
    "colab": {
     "base_uri": "https://localhost:8080/",
     "height": 1000
    },
    "colab_type": "code",
    "id": "QgKDdzjMK99Y",
    "outputId": "e70cdcc3-4f3c-4631-9952-f6d59cf4ef89"
   },
   "outputs": [
    {
     "name": "stdout",
     "output_type": "stream",
     "text": [
      "\n",
      "Iteration 1/20\n",
      "\n",
      "Position: [[0.4218511272534194], [0.6464674497746838]] | Fitness: 0.015936124429572374\n",
      "\n",
      "Iteration 2/20\n",
      "\n",
      "Position: [[0.4218511272534194], [0.6464674497746838]] | Fitness: 0.015936124429572374\n",
      "\n",
      "Iteration 3/20\n",
      "\n",
      "Position: [[0.42949719615890497], [0.7887676110456674]] | Fitness: 0.012992645351914689\n",
      "\n",
      "Iteration 4/20\n",
      "\n",
      "Position: [[0.42949719615890497], [0.7887676110456674]] | Fitness: 0.012992645351914689\n",
      "\n",
      "Iteration 5/20\n",
      "\n",
      "Position: [[0.4562522586747916], [0.7479889701223974]] | Fitness: 0.012473740876885131\n",
      "\n",
      "Iteration 6/20\n",
      "\n",
      "Position: [[0.23985693081839723], [0.8638426830374502]] | Fitness: 0.011275383032625541\n",
      "\n",
      "Iteration 7/20\n",
      "\n",
      "Position: [[0.045101135747642324], [0.9681110246609976]] | Fitness: 0.011225399110116996\n",
      "\n",
      "Iteration 8/20\n",
      "\n",
      "Position: [[0.0010277848853600668], [1.0]] | Fitness: 0.0005167698965475864\n",
      "\n",
      "Iteration 9/20\n",
      "\n",
      "Position: [[0.0010277848853600668], [1.0]] | Fitness: 0.0005167698965475864\n",
      "\n",
      "Iteration 10/20\n",
      "\n",
      "Position: [[0.0010277848853600668], [1.0]] | Fitness: 0.0005167698965475864\n",
      "\n",
      "Iteration 11/20\n",
      "\n",
      "Position: [[0.0010277848853600668], [1.0]] | Fitness: 0.0005167698965475864\n",
      "\n",
      "Iteration 12/20\n",
      "\n",
      "Position: [[0.0010277848853600668], [1.0]] | Fitness: 0.0005167698965475864\n",
      "\n",
      "Iteration 13/20\n",
      "\n",
      "Position: [[0.0010277848853600668], [1.0]] | Fitness: 0.0005167698965475864\n",
      "\n",
      "Iteration 14/20\n",
      "\n",
      "Position: [[0.01011038393758689], [0.9970537420060082]] | Fitness: 0.00011787702408128098\n",
      "\n",
      "Iteration 15/20\n",
      "\n",
      "Position: [[0.01011038393758689], [0.9970537420060082]] | Fitness: 0.00011787702408128098\n",
      "\n",
      "Iteration 16/20\n",
      "\n",
      "Position: [[0.01011038393758689], [0.9970537420060082]] | Fitness: 0.00011787702408128098\n",
      "\n",
      "Iteration 17/20\n",
      "\n",
      "Position: [[0.003995857198228465], [1.0]] | Fitness: 2.5055128915263403e-05\n",
      "\n",
      "Iteration 18/20\n",
      "\n",
      "Position: [[0.003995857198228465], [1.0]] | Fitness: 2.5055128915263403e-05\n",
      "\n",
      "Iteration 19/20\n",
      "\n",
      "Position: [[0.008612887409813821], [1.0]] | Fitness: 2.458593441723167e-06\n",
      "\n",
      "Iteration 20/20\n",
      "\n",
      "Position: [[0.008612887409813821], [1.0]] | Fitness: 2.458593441723167e-06\n",
      "\n"
     ]
    }
   ],
   "source": [
    "print(history)"
   ]
  },
  {
   "cell_type": "code",
   "execution_count": 24,
   "metadata": {
    "colab": {
     "base_uri": "https://localhost:8080/",
     "height": 34
    },
    "colab_type": "code",
    "id": "pk6lFxc6XL62",
    "outputId": "35582816-d10d-427c-e278-4fc07bf86039"
   },
   "outputs": [
    {
     "data": {
      "text/plain": [
       "2.458593441723167e-06"
      ]
     },
     "execution_count": 24,
     "metadata": {
      "tags": []
     },
     "output_type": "execute_result"
    }
   ],
   "source": [
    "neural_network_test(0.008612887409813821,1.0)"
   ]
  },
  {
   "cell_type": "code",
   "execution_count": null,
   "metadata": {
    "colab": {},
    "colab_type": "code",
    "id": "drnzx7t7XacW"
   },
   "outputs": [],
   "source": []
  }
 ],
 "metadata": {
  "colab": {
   "collapsed_sections": [],
   "name": "MetaHeuristic.ipynb",
   "provenance": []
  },
  "kernelspec": {
   "display_name": "Python 3",
   "language": "python",
   "name": "python3"
  },
  "language_info": {
   "codemirror_mode": {
    "name": "ipython",
    "version": 3
   },
   "file_extension": ".py",
   "mimetype": "text/x-python",
   "name": "python",
   "nbconvert_exporter": "python",
   "pygments_lexer": "ipython3",
   "version": "3.7.3"
  }
 },
 "nbformat": 4,
 "nbformat_minor": 1
}
